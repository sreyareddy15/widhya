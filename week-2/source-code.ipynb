{
 "cells": [
  {
   "cell_type": "code",
   "execution_count": 56,
   "metadata": {},
   "outputs": [],
   "source": [
    "import pandas as pd\n",
    "import numpy as np\n",
    "import math\n",
    "from sklearn.model_selection import train_test_split\n",
    "from sklearn.linear_model import LinearRegression\n",
    "import sklearn"
   ]
  },
  {
   "cell_type": "code",
   "execution_count": 4,
   "metadata": {},
   "outputs": [
    {
     "name": "stdout",
     "output_type": "stream",
     "text": [
      "Collecting quandl\n",
      "  Downloading Quandl-3.5.3-py2.py3-none-any.whl (25 kB)\n",
      "Collecting inflection>=0.3.1\n",
      "  Downloading inflection-0.5.1-py2.py3-none-any.whl (9.5 kB)\n",
      "Requirement already satisfied: python-dateutil in d:\\anaconda\\lib\\site-packages (from quandl) (2.8.1)\n",
      "Requirement already satisfied: pandas>=0.14 in d:\\anaconda\\lib\\site-packages (from quandl) (1.0.1)\n",
      "Requirement already satisfied: requests>=2.7.0 in d:\\anaconda\\lib\\site-packages (from quandl) (2.22.0)\n",
      "Requirement already satisfied: more-itertools in d:\\anaconda\\lib\\site-packages (from quandl) (8.2.0)\n",
      "Requirement already satisfied: numpy>=1.8 in d:\\anaconda\\lib\\site-packages (from quandl) (1.18.1)\n",
      "Requirement already satisfied: six in d:\\anaconda\\lib\\site-packages (from quandl) (1.14.0)\n",
      "Requirement already satisfied: pytz>=2017.2 in d:\\anaconda\\lib\\site-packages (from pandas>=0.14->quandl) (2019.3)\n",
      "Requirement already satisfied: certifi>=2017.4.17 in d:\\anaconda\\lib\\site-packages (from requests>=2.7.0->quandl) (2019.11.28)\n",
      "Requirement already satisfied: idna<2.9,>=2.5 in d:\\anaconda\\lib\\site-packages (from requests>=2.7.0->quandl) (2.8)\n",
      "Requirement already satisfied: chardet<3.1.0,>=3.0.2 in d:\\anaconda\\lib\\site-packages (from requests>=2.7.0->quandl) (3.0.4)\n",
      "Requirement already satisfied: urllib3!=1.25.0,!=1.25.1,<1.26,>=1.21.1 in d:\\anaconda\\lib\\site-packages (from requests>=2.7.0->quandl) (1.25.8)\n",
      "Installing collected packages: inflection, quandl\n",
      "Successfully installed inflection-0.5.1 quandl-3.5.3\n",
      "Note: you may need to restart the kernel to use updated packages.\n"
     ]
    }
   ],
   "source": [
    "pip install quandl"
   ]
  },
  {
   "cell_type": "code",
   "execution_count": 16,
   "metadata": {},
   "outputs": [],
   "source": [
    "import quandl"
   ]
  },
  {
   "cell_type": "code",
   "execution_count": 21,
   "metadata": {
    "scrolled": true
   },
   "outputs": [
    {
     "name": "stdout",
     "output_type": "stream",
     "text": [
      "             Open   High     Low  Close      Volume  Ex-Dividend  Split Ratio  \\\n",
      "Date                                                                            \n",
      "2000-12-12  57.69  58.69  57.630  58.00   4004100.0          0.0          1.0   \n",
      "2000-12-13  57.75  58.31  57.250  57.81   3704900.0          0.0          1.0   \n",
      "2000-12-14  56.00  57.44  55.750  57.00   5023800.0          0.0          1.0   \n",
      "2000-12-15  55.00  56.69  53.500  53.50  13770200.0          0.0          1.0   \n",
      "2000-12-18  54.00  55.56  53.630  54.88   5152300.0          0.0          1.0   \n",
      "...           ...    ...     ...    ...         ...          ...          ...   \n",
      "2014-12-23  42.54  43.14  42.470  42.97  13411064.0          0.0          1.0   \n",
      "2014-12-24  43.10  43.23  42.920  42.94   6405910.0          0.0          1.0   \n",
      "2014-12-26  42.97  43.30  42.930  42.96   6466883.0          0.0          1.0   \n",
      "2014-12-29  42.80  43.06  42.490  42.86   8694509.0          0.0          1.0   \n",
      "2014-12-30  42.74  42.99  42.651  42.76   9222049.0          0.0          1.0   \n",
      "\n",
      "            Adj. Open  Adj. High   Adj. Low  Adj. Close  Adj. Volume  \n",
      "Date                                                                  \n",
      "2000-12-12  18.473945  18.794173  18.454732   18.573216    8008200.0  \n",
      "2000-12-13  18.493159  18.672487  18.333045   18.512373    7409800.0  \n",
      "2000-12-14  17.932760  18.393888  17.852703   18.252988   10047600.0  \n",
      "2000-12-15  17.612532  18.153717  17.132191   17.132191   27540400.0  \n",
      "2000-12-18  17.292305  17.791860  17.173820   17.574105   10304600.0  \n",
      "...               ...        ...        ...         ...          ...  \n",
      "2014-12-23  38.893123  39.441686  38.829124   39.286260   13411064.0  \n",
      "2014-12-24  39.405115  39.523970  39.240546   39.258832    6405910.0  \n",
      "2014-12-26  39.286260  39.587969  39.249689   39.277117    6466883.0  \n",
      "2014-12-29  39.130834  39.368544  38.847409   39.185690    8694509.0  \n",
      "2014-12-30  39.075977  39.304545  38.994607   39.094263    9222049.0  \n",
      "\n",
      "[3533 rows x 12 columns]\n"
     ]
    }
   ],
   "source": [
    "auth_tok = \"zFnzpryT5juehc5h2v4S\"\n",
    "\n",
    "data = quandl.get(\"WIKI/KO\", trim_start = \"2000-12-12\", trim_end = \"2014-12-30\", authtoken=auth_tok)\n",
    "\n",
    "print(data)"
   ]
  },
  {
   "cell_type": "code",
   "execution_count": 30,
   "metadata": {},
   "outputs": [],
   "source": [
    "df = pd.DataFrame(data = data)"
   ]
  },
  {
   "cell_type": "markdown",
   "metadata": {},
   "source": [
    "### Microtask-1\n"
   ]
  },
  {
   "cell_type": "code",
   "execution_count": 37,
   "metadata": {},
   "outputs": [],
   "source": [
    "df['HL_PCT'] = (df['Adj. High']-df['Adj. Low'])/(df['Adj. Close'])*100"
   ]
  },
  {
   "cell_type": "code",
   "execution_count": 36,
   "metadata": {},
   "outputs": [],
   "source": [
    "df['PCT_change'] = (df['Adj. Close']-df['Adj. Open'])/(df['Adj. Open'])*100"
   ]
  },
  {
   "cell_type": "code",
   "execution_count": 29,
   "metadata": {},
   "outputs": [
    {
     "data": {
      "text/plain": [
       "12"
      ]
     },
     "execution_count": 29,
     "metadata": {},
     "output_type": "execute_result"
    }
   ],
   "source": [
    "len(df.columns)"
   ]
  },
  {
   "cell_type": "code",
   "execution_count": 38,
   "metadata": {},
   "outputs": [
    {
     "name": "stdout",
     "output_type": "stream",
     "text": [
      "<class 'pandas.core.frame.DataFrame'>\n",
      "DatetimeIndex: 3533 entries, 2000-12-12 to 2014-12-30\n",
      "Data columns (total 14 columns):\n",
      " #   Column       Non-Null Count  Dtype  \n",
      "---  ------       --------------  -----  \n",
      " 0   Open         3533 non-null   float64\n",
      " 1   High         3533 non-null   float64\n",
      " 2   Low          3533 non-null   float64\n",
      " 3   Close        3533 non-null   float64\n",
      " 4   Volume       3533 non-null   float64\n",
      " 5   Ex-Dividend  3533 non-null   float64\n",
      " 6   Split Ratio  3533 non-null   float64\n",
      " 7   Adj. Open    3533 non-null   float64\n",
      " 8   Adj. High    3533 non-null   float64\n",
      " 9   Adj. Low     3533 non-null   float64\n",
      " 10  Adj. Close   3533 non-null   float64\n",
      " 11  Adj. Volume  3533 non-null   float64\n",
      " 12  HL_PCT       3533 non-null   float64\n",
      " 13  PCT_change   3533 non-null   float64\n",
      "dtypes: float64(14)\n",
      "memory usage: 414.0 KB\n"
     ]
    }
   ],
   "source": [
    "df.info()"
   ]
  },
  {
   "cell_type": "code",
   "execution_count": 39,
   "metadata": {},
   "outputs": [
    {
     "data": {
      "text/html": [
       "<div>\n",
       "<style scoped>\n",
       "    .dataframe tbody tr th:only-of-type {\n",
       "        vertical-align: middle;\n",
       "    }\n",
       "\n",
       "    .dataframe tbody tr th {\n",
       "        vertical-align: top;\n",
       "    }\n",
       "\n",
       "    .dataframe thead th {\n",
       "        text-align: right;\n",
       "    }\n",
       "</style>\n",
       "<table border=\"1\" class=\"dataframe\">\n",
       "  <thead>\n",
       "    <tr style=\"text-align: right;\">\n",
       "      <th></th>\n",
       "      <th>Open</th>\n",
       "      <th>High</th>\n",
       "      <th>Low</th>\n",
       "      <th>Close</th>\n",
       "      <th>Volume</th>\n",
       "      <th>Ex-Dividend</th>\n",
       "      <th>Split Ratio</th>\n",
       "      <th>Adj. Open</th>\n",
       "      <th>Adj. High</th>\n",
       "      <th>Adj. Low</th>\n",
       "      <th>Adj. Close</th>\n",
       "      <th>Adj. Volume</th>\n",
       "      <th>HL_PCT</th>\n",
       "      <th>PCT_change</th>\n",
       "    </tr>\n",
       "  </thead>\n",
       "  <tbody>\n",
       "    <tr>\n",
       "      <th>count</th>\n",
       "      <td>3533.000000</td>\n",
       "      <td>3533.000000</td>\n",
       "      <td>3533.000000</td>\n",
       "      <td>3533.000000</td>\n",
       "      <td>3.533000e+03</td>\n",
       "      <td>3533.000000</td>\n",
       "      <td>3533.000000</td>\n",
       "      <td>3533.000000</td>\n",
       "      <td>3533.000000</td>\n",
       "      <td>3533.000000</td>\n",
       "      <td>3533.000000</td>\n",
       "      <td>3.533000e+03</td>\n",
       "      <td>3533.000000</td>\n",
       "      <td>3533.000000</td>\n",
       "    </tr>\n",
       "    <tr>\n",
       "      <th>mean</th>\n",
       "      <td>49.677001</td>\n",
       "      <td>50.075100</td>\n",
       "      <td>49.256461</td>\n",
       "      <td>49.695774</td>\n",
       "      <td>9.029913e+06</td>\n",
       "      <td>0.004984</td>\n",
       "      <td>1.000283</td>\n",
       "      <td>21.758367</td>\n",
       "      <td>21.924715</td>\n",
       "      <td>21.585109</td>\n",
       "      <td>21.766151</td>\n",
       "      <td>1.552296e+07</td>\n",
       "      <td>1.657135</td>\n",
       "      <td>0.037695</td>\n",
       "    </tr>\n",
       "    <tr>\n",
       "      <th>std</th>\n",
       "      <td>9.509201</td>\n",
       "      <td>9.569743</td>\n",
       "      <td>9.501268</td>\n",
       "      <td>9.528027</td>\n",
       "      <td>5.391665e+06</td>\n",
       "      <td>0.041276</td>\n",
       "      <td>0.016824</td>\n",
       "      <td>7.578029</td>\n",
       "      <td>7.608199</td>\n",
       "      <td>7.565000</td>\n",
       "      <td>7.583847</td>\n",
       "      <td>8.083603e+06</td>\n",
       "      <td>1.935223</td>\n",
       "      <td>1.096832</td>\n",
       "    </tr>\n",
       "    <tr>\n",
       "      <th>min</th>\n",
       "      <td>35.880000</td>\n",
       "      <td>36.280000</td>\n",
       "      <td>5.180000</td>\n",
       "      <td>35.970000</td>\n",
       "      <td>1.073700e+06</td>\n",
       "      <td>0.000000</td>\n",
       "      <td>1.000000</td>\n",
       "      <td>12.213334</td>\n",
       "      <td>12.377935</td>\n",
       "      <td>1.739863</td>\n",
       "      <td>12.203458</td>\n",
       "      <td>2.147400e+06</td>\n",
       "      <td>0.258649</td>\n",
       "      <td>-8.976246</td>\n",
       "    </tr>\n",
       "    <tr>\n",
       "      <th>25%</th>\n",
       "      <td>42.390000</td>\n",
       "      <td>42.670000</td>\n",
       "      <td>42.070000</td>\n",
       "      <td>42.350000</td>\n",
       "      <td>5.263500e+06</td>\n",
       "      <td>0.000000</td>\n",
       "      <td>1.000000</td>\n",
       "      <td>15.405275</td>\n",
       "      <td>15.525254</td>\n",
       "      <td>15.266267</td>\n",
       "      <td>15.406065</td>\n",
       "      <td>1.014960e+07</td>\n",
       "      <td>0.985234</td>\n",
       "      <td>-0.503651</td>\n",
       "    </tr>\n",
       "    <tr>\n",
       "      <th>50%</th>\n",
       "      <td>46.930000</td>\n",
       "      <td>47.251000</td>\n",
       "      <td>46.490000</td>\n",
       "      <td>46.960000</td>\n",
       "      <td>7.693100e+06</td>\n",
       "      <td>0.000000</td>\n",
       "      <td>1.000000</td>\n",
       "      <td>18.867455</td>\n",
       "      <td>19.038871</td>\n",
       "      <td>18.729147</td>\n",
       "      <td>18.886105</td>\n",
       "      <td>1.371620e+07</td>\n",
       "      <td>1.346701</td>\n",
       "      <td>0.037161</td>\n",
       "    </tr>\n",
       "    <tr>\n",
       "      <th>75%</th>\n",
       "      <td>54.790000</td>\n",
       "      <td>55.160000</td>\n",
       "      <td>54.290000</td>\n",
       "      <td>54.790000</td>\n",
       "      <td>1.146100e+07</td>\n",
       "      <td>0.000000</td>\n",
       "      <td>1.000000</td>\n",
       "      <td>27.738485</td>\n",
       "      <td>27.879698</td>\n",
       "      <td>27.526271</td>\n",
       "      <td>27.727642</td>\n",
       "      <td>1.868840e+07</td>\n",
       "      <td>1.918624</td>\n",
       "      <td>0.594776</td>\n",
       "    </tr>\n",
       "    <tr>\n",
       "      <th>max</th>\n",
       "      <td>81.010000</td>\n",
       "      <td>81.330000</td>\n",
       "      <td>80.620000</td>\n",
       "      <td>81.120000</td>\n",
       "      <td>9.896750e+07</td>\n",
       "      <td>0.510000</td>\n",
       "      <td>2.000000</td>\n",
       "      <td>40.611954</td>\n",
       "      <td>41.142232</td>\n",
       "      <td>40.438242</td>\n",
       "      <td>40.986805</td>\n",
       "      <td>1.241690e+08</td>\n",
       "      <td>90.033885</td>\n",
       "      <td>8.878730</td>\n",
       "    </tr>\n",
       "  </tbody>\n",
       "</table>\n",
       "</div>"
      ],
      "text/plain": [
       "              Open         High          Low        Close        Volume  \\\n",
       "count  3533.000000  3533.000000  3533.000000  3533.000000  3.533000e+03   \n",
       "mean     49.677001    50.075100    49.256461    49.695774  9.029913e+06   \n",
       "std       9.509201     9.569743     9.501268     9.528027  5.391665e+06   \n",
       "min      35.880000    36.280000     5.180000    35.970000  1.073700e+06   \n",
       "25%      42.390000    42.670000    42.070000    42.350000  5.263500e+06   \n",
       "50%      46.930000    47.251000    46.490000    46.960000  7.693100e+06   \n",
       "75%      54.790000    55.160000    54.290000    54.790000  1.146100e+07   \n",
       "max      81.010000    81.330000    80.620000    81.120000  9.896750e+07   \n",
       "\n",
       "       Ex-Dividend  Split Ratio    Adj. Open    Adj. High     Adj. Low  \\\n",
       "count  3533.000000  3533.000000  3533.000000  3533.000000  3533.000000   \n",
       "mean      0.004984     1.000283    21.758367    21.924715    21.585109   \n",
       "std       0.041276     0.016824     7.578029     7.608199     7.565000   \n",
       "min       0.000000     1.000000    12.213334    12.377935     1.739863   \n",
       "25%       0.000000     1.000000    15.405275    15.525254    15.266267   \n",
       "50%       0.000000     1.000000    18.867455    19.038871    18.729147   \n",
       "75%       0.000000     1.000000    27.738485    27.879698    27.526271   \n",
       "max       0.510000     2.000000    40.611954    41.142232    40.438242   \n",
       "\n",
       "        Adj. Close   Adj. Volume       HL_PCT   PCT_change  \n",
       "count  3533.000000  3.533000e+03  3533.000000  3533.000000  \n",
       "mean     21.766151  1.552296e+07     1.657135     0.037695  \n",
       "std       7.583847  8.083603e+06     1.935223     1.096832  \n",
       "min      12.203458  2.147400e+06     0.258649    -8.976246  \n",
       "25%      15.406065  1.014960e+07     0.985234    -0.503651  \n",
       "50%      18.886105  1.371620e+07     1.346701     0.037161  \n",
       "75%      27.727642  1.868840e+07     1.918624     0.594776  \n",
       "max      40.986805  1.241690e+08    90.033885     8.878730  "
      ]
     },
     "execution_count": 39,
     "metadata": {},
     "output_type": "execute_result"
    }
   ],
   "source": [
    "df.describe()"
   ]
  },
  {
   "cell_type": "markdown",
   "metadata": {},
   "source": [
    "### Microtask-2"
   ]
  },
  {
   "cell_type": "code",
   "execution_count": 45,
   "metadata": {},
   "outputs": [],
   "source": [
    "data = df[['Adj. Close','Adj. Volume','HL_PCT','PCT_change']]"
   ]
  },
  {
   "cell_type": "code",
   "execution_count": 46,
   "metadata": {},
   "outputs": [
    {
     "data": {
      "text/plain": [
       "Adj. Close     0\n",
       "Adj. Volume    0\n",
       "HL_PCT         0\n",
       "PCT_change     0\n",
       "dtype: int64"
      ]
     },
     "execution_count": 46,
     "metadata": {},
     "output_type": "execute_result"
    }
   ],
   "source": [
    "data.isnull().sum()"
   ]
  },
  {
   "cell_type": "code",
   "execution_count": 47,
   "metadata": {},
   "outputs": [
    {
     "data": {
      "text/plain": [
       "Open           0\n",
       "High           0\n",
       "Low            0\n",
       "Close          0\n",
       "Volume         0\n",
       "Ex-Dividend    0\n",
       "Split Ratio    0\n",
       "Adj. Open      0\n",
       "Adj. High      0\n",
       "Adj. Low       0\n",
       "Adj. Close     0\n",
       "Adj. Volume    0\n",
       "HL_PCT         0\n",
       "PCT_change     0\n",
       "dtype: int64"
      ]
     },
     "execution_count": 47,
     "metadata": {},
     "output_type": "execute_result"
    }
   ],
   "source": [
    "df.isnull().sum()"
   ]
  },
  {
   "cell_type": "markdown",
   "metadata": {},
   "source": [
    "### Microtask-3"
   ]
  },
  {
   "cell_type": "code",
   "execution_count": 49,
   "metadata": {},
   "outputs": [],
   "source": [
    "\n",
    "df['Prediction'] = df[['Adj. Close']].shift(-int(1))"
   ]
  },
  {
   "cell_type": "code",
   "execution_count": 50,
   "metadata": {},
   "outputs": [],
   "source": [
    "X = np.array(df.drop(['Prediction'],1))\n",
    "\n",
    "\n",
    "X_forecast = X[-1:]\n",
    "X = X[:-1]\n",
    "#print(X_forecast)\n",
    "y = np.array(df['Prediction'])\n",
    "y = y[:-1]"
   ]
  },
  {
   "cell_type": "code",
   "execution_count": 55,
   "metadata": {},
   "outputs": [
    {
     "data": {
      "text/plain": [
       "LinearRegression(copy_X=True, fit_intercept=True, n_jobs=None, normalize=False)"
      ]
     },
     "execution_count": 55,
     "metadata": {},
     "output_type": "execute_result"
    }
   ],
   "source": [
    "X_train, X_test, y_train, y_test = train_test_split(X, y, test_size = 0.2)\n",
    "\n",
    "clf = LinearRegression()\n",
    "clf.fit(X_train,y_train)\n"
   ]
  },
  {
   "cell_type": "markdown",
   "metadata": {},
   "source": [
    "### Microtask - 4"
   ]
  },
  {
   "cell_type": "code",
   "execution_count": 57,
   "metadata": {},
   "outputs": [
    {
     "name": "stdout",
     "output_type": "stream",
     "text": [
      "[39.14536424]\n"
     ]
    }
   ],
   "source": [
    "confidence = clf.score(X_test, y_test)\n",
    "# print(\"confidence: \", confidence)\n",
    "\n",
    "forecast_prediction = clf.predict(X_forecast)\n",
    "print(forecast_prediction)"
   ]
  },
  {
   "cell_type": "code",
   "execution_count": 59,
   "metadata": {},
   "outputs": [
    {
     "data": {
      "text/plain": [
       "0.9989345140643086"
      ]
     },
     "execution_count": 59,
     "metadata": {},
     "output_type": "execute_result"
    }
   ],
   "source": [
    "confidence"
   ]
  },
  {
   "cell_type": "code",
   "execution_count": 60,
   "metadata": {},
   "outputs": [
    {
     "data": {
      "text/plain": [
       "0.06477378360663177"
      ]
     },
     "execution_count": 60,
     "metadata": {},
     "output_type": "execute_result"
    }
   ],
   "source": [
    "sklearn.metrics.mean_squared_error(y_test,clf.predict(X_test))"
   ]
  }
 ],
 "metadata": {
  "kernelspec": {
   "display_name": "Python 3",
   "language": "python",
   "name": "python3"
  },
  "language_info": {
   "codemirror_mode": {
    "name": "ipython",
    "version": 3
   },
   "file_extension": ".py",
   "mimetype": "text/x-python",
   "name": "python",
   "nbconvert_exporter": "python",
   "pygments_lexer": "ipython3",
   "version": "3.7.6"
  }
 },
 "nbformat": 4,
 "nbformat_minor": 4
}
